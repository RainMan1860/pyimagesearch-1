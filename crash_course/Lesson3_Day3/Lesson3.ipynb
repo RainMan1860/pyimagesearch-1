{
 "cells": [
  {
   "cell_type": "markdown",
   "metadata": {},
   "source": [
    "# How to Build a Kick-Ass Mobile Document Scanner in Just 5 Minutes"
   ]
  },
  {
   "cell_type": "markdown",
   "metadata": {},
   "source": [
    "3 Steps\n",
    "- Detect edges\n",
    "- use the edges in the image to find the contour representing the piece of paper being scanned\n",
    "- apply a perspective transform to obtain the top down view of the document"
   ]
  },
  {
   "cell_type": "code",
   "execution_count": null,
   "metadata": {},
   "outputs": [],
   "source": [
    "from pyimagesearch.transform import four_point_transform\n",
    "from skimage.filters import threshold_local\n",
    "import numpy as np\n",
    "import cv2\n",
    "import imutils\n"
   ]
  },
  {
   "cell_type": "code",
   "execution_count": null,
   "metadata": {},
   "outputs": [],
   "source": [
    "from matplotlib import pyplot as plt\n",
    "def display_BGR(image):\n",
    "    ''' OpenCV stores in BGR rather than RGB. This will convert a BGR image\n",
    "    into an RGB image and display it\n",
    "    '''\n",
    "    im2 = image.copy()\n",
    "    im2[:, :, 0] = image[:, :, 2]\n",
    "    im2[:, :, 2] = image[:, :, 0]\n",
    "    plt.imshow(im2)\n",
    "    plt.show()"
   ]
  },
  {
   "cell_type": "markdown",
   "metadata": {},
   "source": [
    "### Step 1: Edge Detection"
   ]
  },
  {
   "cell_type": "code",
   "execution_count": null,
   "metadata": {},
   "outputs": [],
   "source": [
    "image = cv2.imread('images/catcher.jpeg')\n",
    "\n",
    "ratio = image.shape[0] / 500.0\n",
    "orig = image.copy()\n",
    "image = imutils.resize(image, height=500)\n",
    "\n",
    "# convert image to grayscale, blur, and find images\n",
    "gray = cv2.cvtColor(image, cv2.COLOR_BGR2GRAY)\n",
    "gray = cv2.GaussianBlur(gray, (5,5), 0)\n",
    "edged = cv2.Canny(gray, 75, 200)\n",
    "\n",
    "cv2.imshow(\"edged\", edged)\n",
    "cv2.waitKey(0)\n",
    "# show the original image and the edge detected image\n",
    "# display_BGR(image)\n",
    "# plt.figure()\n",
    "# plt.imshow(edged, cmap='gray')"
   ]
  },
  {
   "cell_type": "markdown",
   "metadata": {},
   "source": [
    "### Step 2: Finding Contours"
   ]
  },
  {
   "cell_type": "markdown",
   "metadata": {},
   "source": [
    "We can assume rectangular. However, the quality of the image is poor and this will not work. basically the tutorial continues to find the contours. Then applies a perspective transform and threshold in step 3. If we had higher quality images it would actually work"
   ]
  }
 ],
 "metadata": {
  "kernelspec": {
   "display_name": "Python 3",
   "language": "python",
   "name": "python3"
  },
  "language_info": {
   "codemirror_mode": {
    "name": "ipython",
    "version": 3
   },
   "file_extension": ".py",
   "mimetype": "text/x-python",
   "name": "python",
   "nbconvert_exporter": "python",
   "pygments_lexer": "ipython3",
   "version": "3.6.5"
  }
 },
 "nbformat": 4,
 "nbformat_minor": 2
}
