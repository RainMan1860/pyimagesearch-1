{
 "cells": [
  {
   "cell_type": "markdown",
   "metadata": {},
   "source": [
    "# Hobbits and Histograms Tutorial\n",
    "\n",
    "## A How-To Guide to Building Your First Image Search Engine in Python\n",
    "\n",
    "This tutorial is provided on pyimagesearch and can be found at this link: https://www.pyimagesearch.com/2014/01/27/hobbits-and-histograms-a-how-to-guide-to-building-your-first-image-search-engine-in-python/"
   ]
  },
  {
   "cell_type": "markdown",
   "metadata": {},
   "source": [
    "## Overview:\n",
    "Build an image search engine<br>\n",
    "Learn the 4 steps that are required"
   ]
  },
  {
   "cell_type": "markdown",
   "metadata": {},
   "source": [
    "## Goal:\n",
    "\n",
    "We have 25 images in our dataset that are categorized into five different locations in the Lord of the Rings. We will create an image search engine using this data. Our goal is given an query (input) image from one of the categories, we return all five images from said category in the top 10 search results"
   ]
  },
  {
   "cell_type": "markdown",
   "metadata": {},
   "source": [
    "## 4 Steps to Building an Image Search Engine\n",
    "\n",
    "(1) Define your descriptor<br>\n",
    "(2) Index your dataset<br>\n",
    "(3) Define your similarity metric <br>\n",
    "(4) Searching: apply descriptor to your query image. sort results via similary and examine them"
   ]
  },
  {
   "cell_type": "markdown",
   "metadata": {},
   "source": [
    "## Step 1: The Descriptor - A 3D RGB Color HIstogram\n",
    "\n",
    "we compute a 3D histogram with 8 bins. We have to flatten it to reshape the array in numpy"
   ]
  },
  {
   "cell_type": "code",
   "execution_count": 18,
   "metadata": {},
   "outputs": [],
   "source": [
    "import imutils\n",
    "import cv2\n",
    "import os\n",
    "import pickle\n",
    "import numpy as np"
   ]
  },
  {
   "cell_type": "code",
   "execution_count": 4,
   "metadata": {},
   "outputs": [],
   "source": [
    "# Create class for RGB Histogram\n",
    "class RGBHistogram:\n",
    "    def __init__(self, bins):\n",
    "        # num bins in histogram\n",
    "        self.bins = bins\n",
    "    \n",
    "    def describe(self, image):\n",
    "        # compute normlaized 3D histogram in RGB colorspace\n",
    "        hist = cv2.calcHist([image], [0, 1, 2], None, self.bins, \n",
    "                          [0, 256, 0, 256, 0, 256])\n",
    "        \n",
    "        if imutils.is_cv2():\n",
    "            hist = cv2.normalize(hist)\n",
    "        else:\n",
    "            hist = cv2.normalize(hist, hist)\n",
    "        \n",
    "        # return histogram as flattened array\n",
    "        return hist.flatten()          \n",
    "            "
   ]
  },
  {
   "cell_type": "markdown",
   "metadata": {},
   "source": [
    "It is good practice to define image descriptors as classes rather than functions because you rarely ever extract features from a single image alone"
   ]
  },
  {
   "cell_type": "markdown",
   "metadata": {},
   "source": [
    "## Step 2: Indexing our Dataset\n",
    "\n",
    "Apply our  image descriptor to each image in the dataset"
   ]
  },
  {
   "cell_type": "code",
   "execution_count": 6,
   "metadata": {},
   "outputs": [],
   "source": [
    "# The index dictionary will keep the value of the descriptors for each file\n",
    "index = {}\n",
    "\n",
    "# Initalize descriptor object\n",
    "desc = RGBHistogram([8, 8, 8])\n",
    "\n",
    "# Loop over every file in the images directory\n",
    "for _, _, files in os.walk(os.getcwd() + '/images'):\n",
    "    for file in files:\n",
    "        # Get image path\n",
    "        path = os.getcwd() + '/images/' + file\n",
    "\n",
    "        # load image, describe it and update the histogram\n",
    "        image = cv2.imread(path)\n",
    "        cv2.imshow('image', image)\n",
    "        features = desc.describe(image)\n",
    "        index[file] = features        \n",
    "        \n",
    "# Save index to pickle file\n",
    "f = open(os.getcwd() + '/index.pkl', 'wb')\n",
    "f.write(pickle.dumps(index))\n",
    "f.close()"
   ]
  },
  {
   "cell_type": "markdown",
   "metadata": {},
   "source": [
    "## Step 3: The Search\n",
    "\n",
    "Our index is now ready to be searched. This will compare two feature vectors and determine similarity"
   ]
  },
  {
   "cell_type": "code",
   "execution_count": 15,
   "metadata": {},
   "outputs": [],
   "source": [
    "class Searcher:\n",
    "    def __init__(self, index):\n",
    "        self.index = index\n",
    "        \n",
    "    def search(self, queryFeatures):\n",
    "        # initialize dictionary of results\n",
    "        results = {}\n",
    "        \n",
    "        # loop over the index\n",
    "        for (k, features) in self.index.items():\n",
    "            \n",
    "            # Compute chi-squared distance between features\n",
    "            d = self.chi2_distance(features, queryFeatures)\n",
    "            \n",
    "            # save the result\n",
    "            results[k] = d\n",
    "        \n",
    "        # sort results so that smallest distances are at the front of the list\n",
    "        results = sorted([(v, k) for (k, v) in results.items()])\n",
    "        \n",
    "        return results\n",
    "    \n",
    "    def chi2_distance(self, histA, histB, eps=1e-10):\n",
    "        # compute and return chi-squared distance\n",
    "        return 0.5 * np.sum([((a - b) ** 2) / (a + b + eps)\n",
    "                          for (a,b) in zip(histA, histB)])\n",
    "        "
   ]
  },
  {
   "cell_type": "markdown",
   "metadata": {},
   "source": [
    "## Step 4: Performing a Search\n",
    "\n",
    "Perform the search on files inside and outside the dataset"
   ]
  },
  {
   "cell_type": "code",
   "execution_count": 26,
   "metadata": {},
   "outputs": [],
   "source": [
    "# create search function given an input picture\n",
    "def search_query(query_path):\n",
    "    ''' This function will print the 5 highest matched image from our dataset\n",
    "    relative to the query picture'''\n",
    "    \n",
    "    # Load and show query image\n",
    "    query = cv2.imread(query_path)\n",
    "    cv2.imshow(\"Query\", query)\n",
    "    \n",
    "    # Describe the input query image\n",
    "    desc = RGBHistogram([8, 8, 8])\n",
    "    queryFeatures = desc.describe(query)\n",
    "\n",
    "    # load in index and initialize an object of the searcher class\n",
    "    index = pickle.loads(open(os.getcwd() + '/index.pkl', \"rb\").read())\n",
    "    searcher = Searcher(index)\n",
    "    \n",
    "    # Get results\n",
    "    results = searcher.search(queryFeatures)\n",
    "    \n",
    "    # Print the top 5 results\n",
    "    for i in range(5):\n",
    "        print(results[i][1])"
   ]
  },
  {
   "cell_type": "code",
   "execution_count": 20,
   "metadata": {},
   "outputs": [],
   "source": [
    "# Define file paths\n",
    "querypaths = {}\n",
    "querypaths['mordor'] = os.getcwd() + '/images/Mordor-002.png'\n",
    "querypaths['rivendell'] = os.getcwd() + '/queries/rivendell-query.png'\n",
    "querypaths['shire'] = os.getcwd() + '/queries/shire-query.png'"
   ]
  },
  {
   "cell_type": "code",
   "execution_count": 27,
   "metadata": {},
   "outputs": [
    {
     "name": "stdout",
     "output_type": "stream",
     "text": [
      "Mordor-002.png\n",
      "Mordor-004.png\n",
      "Mordor-001.png\n",
      "Mordor-003.png\n",
      "Mordor-005.png\n"
     ]
    }
   ],
   "source": [
    "# Perform searches on Mordor in dataset\n",
    "search_query(querypaths['mordor'])"
   ]
  },
  {
   "cell_type": "code",
   "execution_count": 28,
   "metadata": {},
   "outputs": [
    {
     "name": "stdout",
     "output_type": "stream",
     "text": [
      "Rivendell-002.png\n",
      "Rivendell-004.png\n",
      "Rivendell-001.png\n",
      "Rivendell-005.png\n",
      "Rivendell-003.png\n"
     ]
    }
   ],
   "source": [
    "# Perform search on Rivendell outside of dataset\n",
    "search_query(querypaths['rivendell'])"
   ]
  },
  {
   "cell_type": "code",
   "execution_count": 30,
   "metadata": {},
   "outputs": [
    {
     "name": "stdout",
     "output_type": "stream",
     "text": [
      "Shire-004.png\n",
      "Shire-003.png\n",
      "Shire-001.png\n",
      "Shire-002.png\n",
      "Shire-005.png\n"
     ]
    }
   ],
   "source": [
    "# Perform search on Shire outside of dataset\n",
    "search_query(querypaths['shire'])"
   ]
  },
  {
   "cell_type": "code",
   "execution_count": 3,
   "metadata": {},
   "outputs": [
    {
     "ename": "NameError",
     "evalue": "name 'Spacing' is not defined",
     "output_type": "error",
     "traceback": [
      "\u001b[1;31m---------------------------------------------------------------------------\u001b[0m",
      "\u001b[1;31mNameError\u001b[0m                                 Traceback (most recent call last)",
      "\u001b[1;32m<ipython-input-3-66d19662f015>\u001b[0m in \u001b[0;36m<module>\u001b[1;34m()\u001b[0m\n\u001b[1;32m----> 1\u001b[1;33m \u001b[0mSpacing\u001b[0m\u001b[1;33m\u001b[0m\u001b[0m\n\u001b[0m\u001b[0;32m      2\u001b[0m \u001b[1;33m\u001b[0m\u001b[0m\n\u001b[0;32m      3\u001b[0m \u001b[1;33m\u001b[0m\u001b[0m\n\u001b[0;32m      4\u001b[0m \u001b[1;33m\u001b[0m\u001b[0m\n\u001b[0;32m      5\u001b[0m \u001b[1;33m\u001b[0m\u001b[0m\n",
      "\u001b[1;31mNameError\u001b[0m: name 'Spacing' is not defined"
     ]
    }
   ],
   "source": [
    "\n",
    "\n",
    "\n",
    "\n",
    "\n",
    "\n",
    "\n",
    "\n",
    "\n",
    "\n",
    "\n",
    "\n",
    "\n",
    "\n",
    "\n",
    "\n",
    "\n",
    "\n",
    "\n",
    "\n",
    "\n",
    "\n",
    "\n",
    "\n",
    "Spacing\n",
    "\n",
    "\n",
    "\n",
    "\n",
    "\n",
    "\n",
    "\n",
    "\n",
    "\n",
    "\n",
    "\n",
    "\n",
    "\n",
    "\n",
    "\n",
    "\n",
    "\n",
    "\n",
    "\n",
    "\n",
    "\n",
    "\n",
    "\n",
    "\n",
    "\n",
    "\n"
   ]
  }
 ],
 "metadata": {
  "kernelspec": {
   "display_name": "Python 3",
   "language": "python",
   "name": "python3"
  },
  "language_info": {
   "codemirror_mode": {
    "name": "ipython",
    "version": 3
   },
   "file_extension": ".py",
   "mimetype": "text/x-python",
   "name": "python",
   "nbconvert_exporter": "python",
   "pygments_lexer": "ipython3",
   "version": "3.6.5"
  }
 },
 "nbformat": 4,
 "nbformat_minor": 2
}
