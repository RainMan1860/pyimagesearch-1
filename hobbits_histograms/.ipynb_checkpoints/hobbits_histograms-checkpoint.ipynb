{
 "cells": [
  {
   "cell_type": "markdown",
   "metadata": {},
   "source": [
    "# Hobbits and Histograms Tutorial\n",
    "\n",
    "## A How-To Guide to Building Your First Image Search Engine in Python\n",
    "\n",
    "This tutorial is provided on pyimagesearch and can be found at this link: https://www.pyimagesearch.com/2014/01/27/hobbits-and-histograms-a-how-to-guide-to-building-your-first-image-search-engine-in-python/"
   ]
  },
  {
   "cell_type": "markdown",
   "metadata": {},
   "source": [
    "## Overview:\n",
    "Build an image search engine<br>\n",
    "Learn the 4 steps that are required"
   ]
  },
  {
   "cell_type": "markdown",
   "metadata": {},
   "source": [
    "## Goal:\n",
    "\n",
    "We have 25 images in our dataset that are categorized into five different locations in the Lord of the Rings. We will create an image search engine using this data. Our goal is given an query (input) image from one of the categories, we return all five images from said category in the top 10 search results"
   ]
  },
  {
   "cell_type": "markdown",
   "metadata": {},
   "source": [
    "## 4 Steps to Building an Image Search Engine\n",
    "\n",
    "(1) Define your descriptor<br>\n",
    "(2) Index your dataset<br>\n",
    "(3) Define your similarity metric <br>\n",
    "(4) Searching: apply descriptor to your query image. sort results via similary and examine them"
   ]
  },
  {
   "cell_type": "markdown",
   "metadata": {},
   "source": [
    "## Step 1: The Descriptor - A 3D RGB Color HIstogram\n",
    "\n",
    "we compute a 3D histogram with 8 bins. We have to flatten it to reshape the array in numpy"
   ]
  },
  {
   "cell_type": "code",
   "execution_count": 12,
   "metadata": {},
   "outputs": [],
   "source": [
    "import imutils\n",
    "import cv2\n",
    "import os\n",
    "import pickle"
   ]
  },
  {
   "cell_type": "code",
   "execution_count": 26,
   "metadata": {},
   "outputs": [],
   "source": [
    "# Create class for RGB Histogram\n",
    "class RGBHistogram:\n",
    "    def __init__(self, bins):\n",
    "        # num bins in histogram\n",
    "        self.bins = bins\n",
    "    \n",
    "    def describe(self, image):\n",
    "        # compute normlaized 3D histogram in RGB colorspace\n",
    "        hist = cv2.calcHist([image], [0, 1, 2], None, self.bins, \n",
    "                          [0, 256, 0, 256, 0, 256])\n",
    "        \n",
    "        if imutils.is_cv2():\n",
    "            hist = cv2.normalize(hist)\n",
    "        else:\n",
    "            hist = cv2.normalize(hist, hist)\n",
    "        \n",
    "        # return histogram as flattened array\n",
    "        return hist.flatten()          \n",
    "            "
   ]
  },
  {
   "cell_type": "markdown",
   "metadata": {},
   "source": [
    "It is good practice to define image descriptors as classes rather than functions because you rarely ever extract features from a single image alone"
   ]
  },
  {
   "cell_type": "markdown",
   "metadata": {},
   "source": [
    "## Step 2: Indexing our Dataset\n",
    "\n",
    "Apply our  image descriptor to each image in the dataset"
   ]
  },
  {
   "cell_type": "code",
   "execution_count": 29,
   "metadata": {},
   "outputs": [
    {
     "name": "stdout",
     "output_type": "stream",
     "text": [
      "C:\\Users\\conno\\Documents\\GitHub\\pyimagesearch\\hobbits_histograms/images/Dol-Guldur-001.png\n",
      "C:\\Users\\conno\\Documents\\GitHub\\pyimagesearch\\hobbits_histograms/images/Dol-Guldur-002.png\n",
      "C:\\Users\\conno\\Documents\\GitHub\\pyimagesearch\\hobbits_histograms/images/Dol-Guldur-003.png\n",
      "C:\\Users\\conno\\Documents\\GitHub\\pyimagesearch\\hobbits_histograms/images/Dol-Guldur-004.png\n",
      "C:\\Users\\conno\\Documents\\GitHub\\pyimagesearch\\hobbits_histograms/images/Dol-Guldur-005.png\n",
      "C:\\Users\\conno\\Documents\\GitHub\\pyimagesearch\\hobbits_histograms/images/Goblin-001.png\n",
      "C:\\Users\\conno\\Documents\\GitHub\\pyimagesearch\\hobbits_histograms/images/Goblin-002.png\n",
      "C:\\Users\\conno\\Documents\\GitHub\\pyimagesearch\\hobbits_histograms/images/Goblin-003.png\n",
      "C:\\Users\\conno\\Documents\\GitHub\\pyimagesearch\\hobbits_histograms/images/Goblin-004.png\n",
      "C:\\Users\\conno\\Documents\\GitHub\\pyimagesearch\\hobbits_histograms/images/Golbin-005.png\n",
      "C:\\Users\\conno\\Documents\\GitHub\\pyimagesearch\\hobbits_histograms/images/index.pkl\n"
     ]
    },
    {
     "ename": "error",
     "evalue": "OpenCV(4.1.0) C:\\projects\\opencv-python\\opencv\\modules\\highgui\\src\\window.cpp:352: error: (-215:Assertion failed) size.width>0 && size.height>0 in function 'cv::imshow'\n",
     "output_type": "error",
     "traceback": [
      "\u001b[1;31m---------------------------------------------------------------------------\u001b[0m",
      "\u001b[1;31merror\u001b[0m                                     Traceback (most recent call last)",
      "\u001b[1;32m<ipython-input-29-6c7c3035d376>\u001b[0m in \u001b[0;36m<module>\u001b[1;34m()\u001b[0m\n\u001b[0;32m     13\u001b[0m         \u001b[1;31m# load image, describe it and update the histogram\u001b[0m\u001b[1;33m\u001b[0m\u001b[1;33m\u001b[0m\u001b[0m\n\u001b[0;32m     14\u001b[0m         \u001b[0mimage\u001b[0m \u001b[1;33m=\u001b[0m \u001b[0mcv2\u001b[0m\u001b[1;33m.\u001b[0m\u001b[0mimread\u001b[0m\u001b[1;33m(\u001b[0m\u001b[0mpath\u001b[0m\u001b[1;33m)\u001b[0m\u001b[1;33m\u001b[0m\u001b[0m\n\u001b[1;32m---> 15\u001b[1;33m         \u001b[0mcv2\u001b[0m\u001b[1;33m.\u001b[0m\u001b[0mimshow\u001b[0m\u001b[1;33m(\u001b[0m\u001b[1;34m'image'\u001b[0m\u001b[1;33m,\u001b[0m \u001b[0mimage\u001b[0m\u001b[1;33m)\u001b[0m\u001b[1;33m\u001b[0m\u001b[0m\n\u001b[0m\u001b[0;32m     16\u001b[0m         \u001b[0mfeatures\u001b[0m \u001b[1;33m=\u001b[0m \u001b[0mdesc\u001b[0m\u001b[1;33m.\u001b[0m\u001b[0mdescribe\u001b[0m\u001b[1;33m(\u001b[0m\u001b[0mimage\u001b[0m\u001b[1;33m)\u001b[0m\u001b[1;33m\u001b[0m\u001b[0m\n\u001b[0;32m     17\u001b[0m         \u001b[0mindex\u001b[0m\u001b[1;33m[\u001b[0m\u001b[0mfile\u001b[0m\u001b[1;33m]\u001b[0m \u001b[1;33m=\u001b[0m \u001b[0mfeatures\u001b[0m\u001b[1;33m\u001b[0m\u001b[0m\n",
      "\u001b[1;31merror\u001b[0m: OpenCV(4.1.0) C:\\projects\\opencv-python\\opencv\\modules\\highgui\\src\\window.cpp:352: error: (-215:Assertion failed) size.width>0 && size.height>0 in function 'cv::imshow'\n"
     ]
    }
   ],
   "source": [
    "# The index dictionary will keep the value of the descriptors for each file\n",
    "index = {}\n",
    "\n",
    "# Initalize descriptor object\n",
    "desc = RGBHistogram([8, 8, 8])\n",
    "\n",
    "# Loop over every file in the images directory\n",
    "for _, _, files in os.walk(os.getcwd() + '/images'):\n",
    "    for file in files:\n",
    "        # Get image path\n",
    "        path = os.getcwd() + '/images/' + file\n",
    "        print(path.spli)\n",
    "        # load image, describe it and update the histogram\n",
    "        image = cv2.imread(path)\n",
    "        cv2.imshow('image', image)\n",
    "        features = desc.describe(image)\n",
    "        index[file] = features        \n",
    "        \n",
    "# # Save index to pickle file\n",
    "# f = open(os.getcwd() + '/index.pkl', 'wb')\n",
    "# f.write(pickle.dumps(index))\n",
    "# f.close()"
   ]
  },
  {
   "cell_type": "code",
   "execution_count": 3,
   "metadata": {},
   "outputs": [
    {
     "ename": "NameError",
     "evalue": "name 'Spacing' is not defined",
     "output_type": "error",
     "traceback": [
      "\u001b[1;31m---------------------------------------------------------------------------\u001b[0m",
      "\u001b[1;31mNameError\u001b[0m                                 Traceback (most recent call last)",
      "\u001b[1;32m<ipython-input-3-66d19662f015>\u001b[0m in \u001b[0;36m<module>\u001b[1;34m()\u001b[0m\n\u001b[1;32m----> 1\u001b[1;33m \u001b[0mSpacing\u001b[0m\u001b[1;33m\u001b[0m\u001b[0m\n\u001b[0m\u001b[0;32m      2\u001b[0m \u001b[1;33m\u001b[0m\u001b[0m\n\u001b[0;32m      3\u001b[0m \u001b[1;33m\u001b[0m\u001b[0m\n\u001b[0;32m      4\u001b[0m \u001b[1;33m\u001b[0m\u001b[0m\n\u001b[0;32m      5\u001b[0m \u001b[1;33m\u001b[0m\u001b[0m\n",
      "\u001b[1;31mNameError\u001b[0m: name 'Spacing' is not defined"
     ]
    }
   ],
   "source": [
    "\n",
    "\n",
    "\n",
    "\n",
    "\n",
    "\n",
    "\n",
    "\n",
    "\n",
    "\n",
    "\n",
    "\n",
    "\n",
    "\n",
    "\n",
    "\n",
    "\n",
    "\n",
    "\n",
    "\n",
    "\n",
    "\n",
    "\n",
    "\n",
    "Spacing\n",
    "\n",
    "\n",
    "\n",
    "\n",
    "\n",
    "\n",
    "\n",
    "\n",
    "\n",
    "\n",
    "\n",
    "\n",
    "\n",
    "\n",
    "\n",
    "\n",
    "\n",
    "\n",
    "\n",
    "\n",
    "\n",
    "\n",
    "\n",
    "\n",
    "\n",
    "\n"
   ]
  }
 ],
 "metadata": {
  "kernelspec": {
   "display_name": "Python 3",
   "language": "python",
   "name": "python3"
  },
  "language_info": {
   "codemirror_mode": {
    "name": "ipython",
    "version": 3
   },
   "file_extension": ".py",
   "mimetype": "text/x-python",
   "name": "python",
   "nbconvert_exporter": "python",
   "pygments_lexer": "ipython3",
   "version": "3.6.5"
  }
 },
 "nbformat": 4,
 "nbformat_minor": 2
}
