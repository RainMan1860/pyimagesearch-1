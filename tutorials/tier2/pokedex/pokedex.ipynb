{
 "cells": [
  {
   "cell_type": "markdown",
   "metadata": {},
   "source": [
    "# Building a Pokedex in  Python"
   ]
  },
  {
   "cell_type": "markdown",
   "metadata": {},
   "source": [
    "# Step 1: Introduction"
   ]
  },
  {
   "cell_type": "markdown",
   "metadata": {},
   "source": [
    "We want to visually recognize pokemon on a gameboy <br>\n",
    "\n",
    "- We are playing Pokemon on our Game Boy  when we encounter a Pokemon that we do not know\n",
    "- We would like to identify this Pokemon, so we take out our phone and snap a photo of our Game Boy screen\n",
    "- We then take this picture, apply our computer vision and image search engine techniques, and we are able to automatically identify the Pokemon \n",
    "<br>\n",
    "How are we goint to do this?\n",
    "\n",
    "- edge detection\n",
    "- thresholding\n",
    "- perspective warping"
   ]
  },
  {
   "cell_type": "markdown",
   "metadata": {},
   "source": [
    "# Step 2: Scraping our Pokemon Database"
   ]
  },
  {
   "cell_type": "markdown",
   "metadata": {},
   "source": [
    "We will scrape Pokemon DB to get images of the Pokemon"
   ]
  },
  {
   "cell_type": "code",
   "execution_count": 2,
   "metadata": {},
   "outputs": [],
   "source": [
    "from bs4 import BeautifulSoup\n",
    "import os"
   ]
  },
  {
   "cell_type": "code",
   "execution_count": 10,
   "metadata": {},
   "outputs": [
    {
     "name": "stdout",
     "output_type": "stream",
     "text": [
      "error downloadingNidoranâ™€\n",
      "error downloadingNidoranâ™‚\n"
     ]
    }
   ],
   "source": [
    "# Scrape names of pokemon\n",
    "pokemon_list = os.getcwd() + '/pokedex-scrape/pokemon_list.html'\n",
    "soup = BeautifulSoup(open(pokemon_list).read())\n",
    "names = []\n",
    "\n",
    "for link in soup.findAll(\"a\"):\n",
    "    names.append(link.text)\n",
    "    \n",
    "# clean names: lowercase, no apostraphe, period space becomes dash\n",
    "# female and male nidoran\n",
    "\n",
    "for name in names:\n",
    "    # initialize the parsed name as just the lowercase\n",
    "    # version of the pokemon name\n",
    "    parsedName = name.lower()\n",
    "\n",
    "    # if the name contains an apostrophe (such as in\n",
    "    # Farfetch'd, just simply remove it)\n",
    "    parsedName = parsedName.replace(\"'\", \"\")\n",
    "\n",
    "    # if the name contains a period followed by a space\n",
    "    # (as is the case with Mr. Mime), then replace it\n",
    "    # with a dash\n",
    "    parsedName = parsedName.replace(\". \", \"-\")\n",
    "\n",
    "    # handle the case for Nidoran (female)\n",
    "    if name.find(u'\\u2640') != -1:\n",
    "        parsedName = \"nidoran-f\"\n",
    "\n",
    "    # and handle the case for Nidoran (male)\n",
    "    elif name.find(u'\\u2642') != -1:\n",
    "        parsedName = \"nidoran-m\"\n",
    "        \n",
    "    # construc the url to get the sprite\n",
    "\n",
    "    url = \"http://img.pokemondb.net/sprites/red-blue/normal/%s.png\" % (parsedName)\n",
    "    r = requests.get(url)\n",
    "\n",
    "    # if the status code is not 200, ignore the sprite\n",
    "    if r.status_code != 200:\n",
    "        print('error downloading' + str(name))\n",
    "        continue\n",
    "\n",
    "    # write the sprite to file\n",
    "    f = open(\"%s/%s.png\" % (\"sprites\", name.lower()), \"wb\")\n",
    "    f.write(r.content)\n",
    "    f.close()"
   ]
  }
 ],
 "metadata": {
  "kernelspec": {
   "display_name": "Python 3",
   "language": "python",
   "name": "python3"
  },
  "language_info": {
   "codemirror_mode": {
    "name": "ipython",
    "version": 3
   },
   "file_extension": ".py",
   "mimetype": "text/x-python",
   "name": "python",
   "nbconvert_exporter": "python",
   "pygments_lexer": "ipython3",
   "version": "3.6.5"
  }
 },
 "nbformat": 4,
 "nbformat_minor": 2
}
